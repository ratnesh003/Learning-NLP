{
  "nbformat": 4,
  "nbformat_minor": 0,
  "metadata": {
    "colab": {
      "provenance": [],
      "include_colab_link": true
    },
    "kernelspec": {
      "name": "python3",
      "display_name": "Python 3"
    },
    "language_info": {
      "name": "python"
    }
  },
  "cells": [
    {
      "cell_type": "markdown",
      "metadata": {
        "id": "view-in-github",
        "colab_type": "text"
      },
      "source": [
        "<a href=\"https://colab.research.google.com/github/ratnesh003/Learning-NLP/blob/main/Assignment%205/nlp_ui21cs48_lab5.ipynb\" target=\"_parent\"><img src=\"https://colab.research.google.com/assets/colab-badge.svg\" alt=\"Open In Colab\"/></a>"
      ]
    },
    {
      "cell_type": "code",
      "source": [
        "from IPython import get_ipython\n",
        "from IPython.display import display"
      ],
      "metadata": {
        "id": "lHvamWRuI8T5"
      },
      "execution_count": null,
      "outputs": []
    },
    {
      "cell_type": "code",
      "source": [
        "from google.colab import drive\n",
        "drive.mount('/content/drive')"
      ],
      "metadata": {
        "id": "lTXvETunMSxP",
        "outputId": "ce7f559a-9f55-44bb-a82d-1f6e4a6b4820",
        "colab": {
          "base_uri": "https://localhost:8080/"
        }
      },
      "execution_count": null,
      "outputs": [
        {
          "output_type": "stream",
          "name": "stdout",
          "text": [
            "Mounted at /content/drive\n"
          ]
        }
      ]
    },
    {
      "cell_type": "code",
      "execution_count": null,
      "metadata": {
        "colab": {
          "base_uri": "https://localhost:8080/"
        },
        "id": "ZtpiO7WQFoXo",
        "outputId": "95057e85-0871-4177-b77d-ae91348068c9"
      },
      "outputs": [
        {
          "output_type": "stream",
          "name": "stderr",
          "text": [
            "[nltk_data] Downloading package punkt_tab to /root/nltk_data...\n",
            "[nltk_data]   Unzipping tokenizers/punkt_tab.zip.\n",
            "[nltk_data] Downloading package stopwords to /root/nltk_data...\n",
            "[nltk_data]   Package stopwords is already up-to-date!\n"
          ]
        }
      ],
      "source": [
        "import pandas as pd\n",
        "import nltk\n",
        "nltk.download('punkt_tab')\n",
        "nltk.download('stopwords')\n",
        "from nltk.tokenize import word_tokenize\n",
        "from nltk.util import ngrams\n",
        "from nltk.corpus import stopwords\n",
        "from collections import Counter\n",
        "from sklearn.model_selection import train_test_split"
      ]
    },
    {
      "cell_type": "code",
      "source": [
        "df = pd.read_csv('/content/drive/MyDrive/ML/spam.csv', encoding='latin-1')"
      ],
      "metadata": {
        "id": "WfpCPSdWHhP7"
      },
      "execution_count": null,
      "outputs": []
    },
    {
      "cell_type": "code",
      "source": [
        "def preprocess_text(text):\n",
        "    tokens = word_tokenize(text.lower())\n",
        "    tokens = [token for token in tokens if token.isalnum() and token not in stopwords.words('english')] #removing stopwords and punctuations\n",
        "    return tokens"
      ],
      "metadata": {
        "id": "xaLwJfDiGrfU"
      },
      "execution_count": null,
      "outputs": []
    },
    {
      "cell_type": "code",
      "source": [
        "def generate_ngrams(text, n):\n",
        "    n_grams = ngrams(text, n)\n",
        "    return [' '.join(grams) for grams in n_grams]"
      ],
      "metadata": {
        "id": "jU0I8MOYGsvg"
      },
      "execution_count": null,
      "outputs": []
    },
    {
      "cell_type": "code",
      "source": [
        "def get_top_ngrams(ngrams_list, top_n=10):\n",
        "    all_ngrams = [ngram for sublist in ngrams_list for ngram in sublist]\n",
        "    ngram_freq = Counter(all_ngrams)\n",
        "    return ngram_freq.most_common(top_n)"
      ],
      "metadata": {
        "id": "QG4AMui1Gt8s"
      },
      "execution_count": null,
      "outputs": []
    },
    {
      "cell_type": "code",
      "source": [
        "train_df, test_df = train_test_split(df, test_size=0.2, random_state=42)"
      ],
      "metadata": {
        "id": "_W8SUT5fJPom"
      },
      "execution_count": null,
      "outputs": []
    },
    {
      "cell_type": "code",
      "source": [
        "train_df['processed_text'] = train_df['v2'].apply(preprocess_text)\n",
        "train_df['unigrams'] = train_df['processed_text'].apply(lambda x: generate_ngrams(x, 1))\n",
        "train_df['bigrams'] = train_df['processed_text'].apply(lambda x: generate_ngrams(x, 2))\n",
        "train_df['trigrams'] = train_df['processed_text'].apply(lambda x: generate_ngrams(x, 3))\n",
        "\n",
        "top_train_unigrams = get_top_ngrams(train_df['unigrams'].tolist())\n",
        "top_train_bigrams = get_top_ngrams(train_df['bigrams'].tolist())\n",
        "top_train_trigrams = get_top_ngrams(train_df['trigrams'].tolist())\n",
        "\n",
        "print(\"Top Unigrams (Train):\", top_train_unigrams)\n",
        "print(\"Top Bigrams (Train):\", top_train_bigrams)\n",
        "print(\"Top Trigrams (Train):\", top_train_trigrams)"
      ],
      "metadata": {
        "colab": {
          "base_uri": "https://localhost:8080/"
        },
        "id": "ANkX9K0BJR78",
        "outputId": "e97acf40-9b5e-4bd6-af8e-32e0d940dde9"
      },
      "execution_count": null,
      "outputs": [
        {
          "output_type": "stream",
          "name": "stdout",
          "text": [
            "Top Unigrams (Train): [('u', 924), ('call', 458), ('2', 381), ('ur', 316), ('get', 305), ('lt', 267), ('gt', 267), ('go', 233), ('4', 229), ('free', 228)]\n",
            "Top Bigrams (Train): [('lt gt', 234), ('gon na', 50), ('please call', 45), ('u r', 39), ('call later', 36), ('wan na', 28), ('good morning', 27), ('wan 2', 27), ('let know', 26), ('sorry call', 26)]\n",
            "Top Trigrams (Train): [('sorry call later', 26), ('lt decimal gt', 19), ('u wan 2', 18), ('prize guaranteed call', 17), ('gt lt gt', 16), ('lt gt lt', 14), ('happy new year', 13), ('pls send message', 13), ('cant pick phone', 12), ('pick phone right', 12)]\n"
          ]
        }
      ]
    },
    {
      "cell_type": "code",
      "source": [
        "test_df['processed_text'] = test_df['v2'].apply(preprocess_text)\n",
        "test_df['unigrams'] = test_df['processed_text'].apply(lambda x: generate_ngrams(x, 1))\n",
        "test_df['bigrams'] = test_df['processed_text'].apply(lambda x: generate_ngrams(x, 2))\n",
        "test_df['trigrams'] = test_df['processed_text'].apply(lambda x: generate_ngrams(x, 3))\n",
        "\n",
        "top_test_unigrams = get_top_ngrams(test_df['unigrams'].tolist())\n",
        "top_test_bigrams = get_top_ngrams(test_df['bigrams'].tolist())\n",
        "top_test_trigrams = get_top_ngrams(test_df['trigrams'].tolist())\n",
        "\n",
        "print(\"Top Unigrams (Test):\", top_test_unigrams)\n",
        "print(\"Top Bigrams (Test):\", top_test_bigrams)\n",
        "print(\"Top Trigrams (Test):\", top_test_trigrams)"
      ],
      "metadata": {
        "id": "JLYnmnzjWJA0",
        "outputId": "1a098311-71ca-4c31-ebfd-5b4502c5570e",
        "colab": {
          "base_uri": "https://localhost:8080/"
        }
      },
      "execution_count": null,
      "outputs": [
        {
          "output_type": "stream",
          "name": "stdout",
          "text": [
            "Top Unigrams (Test): [('u', 196), ('call', 118), ('2', 93), ('get', 80), ('ur', 65), ('like', 60), ('know', 57), ('4', 54), ('gt', 51), ('free', 50)]\n",
            "Top Bigrams (Test): [('lt gt', 42), ('r u', 15), ('call later', 14), ('let know', 13), ('take care', 12), ('sorry call', 12), ('wan na', 10), ('please call', 9), ('gon na', 8), ('great day', 8)]\n",
            "Top Trigrams (Test): [('sorry call later', 12), ('reply call 08000930705', 6), ('camcorder reply call', 5), ('happy new year', 5), ('lt gt rs', 5), ('private 2003 account', 5), ('2003 account statement', 5), ('2 contact u', 4), ('like lt gt', 4), ('shows 800 points', 4)]\n"
          ]
        }
      ]
    },
    {
      "cell_type": "code",
      "source": [],
      "metadata": {
        "id": "MPa2X-T4WJsi"
      },
      "execution_count": null,
      "outputs": []
    }
  ]
}